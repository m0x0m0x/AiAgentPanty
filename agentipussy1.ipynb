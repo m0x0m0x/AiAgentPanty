{
 "cells": [
  {
   "cell_type": "markdown",
   "id": "1450d8c3",
   "metadata": {
    "_cell_guid": "b1076dfc-b9ad-4769-8c92-a6c4dae69d19",
    "_uuid": "8f2839f25d086af736a60e9eeb907d3b93b6e0e5",
    "papermill": {
     "duration": 0.002067,
     "end_time": "2024-04-27T12:29:32.598138",
     "exception": false,
     "start_time": "2024-04-27T12:29:32.596071",
     "status": "completed"
    },
    "tags": []
   },
   "source": [
    "# AgenticPussy\n",
    "\n",
    "> Sniffing strong woman pussySmells\n",
    "\n",
    "\n"
   ]
  },
  {
   "cell_type": "markdown",
   "id": "9d53c481",
   "metadata": {
    "papermill": {
     "duration": 0.001292,
     "end_time": "2024-04-27T12:29:32.601320",
     "exception": false,
     "start_time": "2024-04-27T12:29:32.600028",
     "status": "completed"
    },
    "tags": []
   },
   "source": [
    "# CrewAI \n",
    "\n",
    "[`CrewAI`](https://www.crewai.com/)\n"
   ]
  },
  {
   "cell_type": "markdown",
   "id": "a55484dd",
   "metadata": {
    "papermill": {
     "duration": 0.001336,
     "end_time": "2024-04-27T12:29:32.604140",
     "exception": false,
     "start_time": "2024-04-27T12:29:32.602804",
     "status": "completed"
    },
    "tags": []
   },
   "source": []
  }
 ],
 "metadata": {
  "kaggle": {
   "accelerator": "none",
   "dataSources": [],
   "dockerImageVersionId": 30698,
   "isGpuEnabled": false,
   "isInternetEnabled": true,
   "language": "python",
   "sourceType": "notebook"
  },
  "kernelspec": {
   "display_name": "Python 3",
   "language": "python",
   "name": "python3"
  },
  "language_info": {
   "codemirror_mode": {
    "name": "ipython",
    "version": 3
   },
   "file_extension": ".py",
   "mimetype": "text/x-python",
   "name": "python",
   "nbconvert_exporter": "python",
   "pygments_lexer": "ipython3",
   "version": "3.10.13"
  },
  "papermill": {
   "default_parameters": {},
   "duration": 2.68152,
   "end_time": "2024-04-27T12:29:32.824632",
   "environment_variables": {},
   "exception": null,
   "input_path": "__notebook__.ipynb",
   "output_path": "__notebook__.ipynb",
   "parameters": {},
   "start_time": "2024-04-27T12:29:30.143112",
   "version": "2.5.0"
  }
 },
 "nbformat": 4,
 "nbformat_minor": 5
}
