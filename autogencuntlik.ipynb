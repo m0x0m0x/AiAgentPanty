{
 "cells": [
  {
   "cell_type": "markdown",
   "id": "91a34621",
   "metadata": {
    "_cell_guid": "b1076dfc-b9ad-4769-8c92-a6c4dae69d19",
    "_uuid": "8f2839f25d086af736a60e9eeb907d3b93b6e0e5",
    "papermill": {
     "duration": 0.002542,
     "end_time": "2024-04-28T15:54:46.408354",
     "exception": false,
     "start_time": "2024-04-28T15:54:46.405812",
     "status": "completed"
    },
    "tags": []
   },
   "source": [
    "# AutogenTest\n",
    "\n",
    "> This is going to be for testing \n",
    "\n",
    "\n",
    "## [`Microsoft Autogen`](https://github.com/microsoft/autogen) \n",
    "1. This is the firs agent you heard about - The video below is the main tutorial which you intend to follow in this notebook\n",
    "\n",
    "\n",
    "\n"
   ]
  },
  {
   "cell_type": "code",
   "execution_count": 1,
   "id": "0623d569",
   "metadata": {
    "execution": {
     "iopub.execute_input": "2024-04-28T15:54:46.414252Z",
     "iopub.status.busy": "2024-04-28T15:54:46.413830Z",
     "iopub.status.idle": "2024-04-28T15:54:46.431437Z",
     "shell.execute_reply": "2024-04-28T15:54:46.430477Z"
    },
    "papermill": {
     "duration": 0.023913,
     "end_time": "2024-04-28T15:54:46.434460",
     "exception": false,
     "start_time": "2024-04-28T15:54:46.410547",
     "status": "completed"
    },
    "tags": []
   },
   "outputs": [
    {
     "data": {
      "text/html": [
       "<div align=\"center\"><iframe width=\"560\" height=\"315\" src=\"https://www.youtube.com/embed/JmjxwTEJSE8?si=_VEOBbX4zKAZ5caX\" title=\"YouTube video player\" frameborder=\"0\" allow=\"accelerometer; autoplay; clipboard-write; encrypted-media; gyroscope; picture-in-picture; web-share\" referrerpolicy=\"strict-origin-when-cross-origin\" allowfullscreen></iframe></div>"
      ],
      "text/plain": [
       "<IPython.core.display.HTML object>"
      ]
     },
     "execution_count": 1,
     "metadata": {},
     "output_type": "execute_result"
    }
   ],
   "source": [
    "# Using python display to embed the youtube vid\n",
    "\n",
    "from IPython.display import HTML\n",
    "\n",
    "HTML('<div align=\"center\"><iframe width=\"560\" height=\"315\" src=\"https://www.youtube.com/embed/JmjxwTEJSE8?si=_VEOBbX4zKAZ5caX\" title=\"YouTube video player\" frameborder=\"0\" allow=\"accelerometer; autoplay; clipboard-write; encrypted-media; gyroscope; picture-in-picture; web-share\" referrerpolicy=\"strict-origin-when-cross-origin\" allowfullscreen></iframe></div>')\n"
   ]
  }
 ],
 "metadata": {
  "kaggle": {
   "accelerator": "none",
   "dataSources": [],
   "dockerImageVersionId": 30698,
   "isGpuEnabled": false,
   "isInternetEnabled": true,
   "language": "python",
   "sourceType": "notebook"
  },
  "kernelspec": {
   "display_name": "Python 3",
   "language": "python",
   "name": "python3"
  },
  "language_info": {
   "codemirror_mode": {
    "name": "ipython",
    "version": 3
   },
   "file_extension": ".py",
   "mimetype": "text/x-python",
   "name": "python",
   "nbconvert_exporter": "python",
   "pygments_lexer": "ipython3",
   "version": "3.10.13"
  },
  "papermill": {
   "default_parameters": {},
   "duration": 4.260037,
   "end_time": "2024-04-28T15:54:46.959667",
   "environment_variables": {},
   "exception": null,
   "input_path": "__notebook__.ipynb",
   "output_path": "__notebook__.ipynb",
   "parameters": {},
   "start_time": "2024-04-28T15:54:42.699630",
   "version": "2.5.0"
  }
 },
 "nbformat": 4,
 "nbformat_minor": 5
}
